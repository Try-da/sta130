{
 "cells": [
  {
   "cell_type": "code",
   "execution_count": 3,
   "id": "28690132",
   "metadata": {},
   "outputs": [
    {
     "ename": "NameError",
     "evalue": "name 'pd' is not defined",
     "output_type": "error",
     "traceback": [
      "\u001b[0;31m---------------------------------------------------------------------------\u001b[0m",
      "\u001b[0;31mNameError\u001b[0m                                 Traceback (most recent call last)",
      "Cell \u001b[0;32mIn[3], line 2\u001b[0m\n\u001b[1;32m      1\u001b[0m url \u001b[38;5;241m=\u001b[39m \u001b[38;5;124m\"\u001b[39m\u001b[38;5;124mhttps://raw.githubusercontent.com/rfordatascience/tidytuesday/master/data/2020/2020-05-05/villagers.csv\u001b[39m\u001b[38;5;124m\"\u001b[39m\n\u001b[0;32m----> 2\u001b[0m df \u001b[38;5;241m=\u001b[39m \u001b[43mpd\u001b[49m\u001b[38;5;241m.\u001b[39mread_csv(url)\n\u001b[1;32m      3\u001b[0m df\u001b[38;5;241m.\u001b[39misna()\u001b[38;5;241m.\u001b[39msum()\n",
      "\u001b[0;31mNameError\u001b[0m: name 'pd' is not defined"
     ]
    }
   ],
   "source": [
    "url = \"https://raw.githubusercontent.com/rfordatascience/tidytuesday/master/data/2020/2020-05-05/villagers.csv\"\n",
    "df = pd.read_csv(url)\n",
    "df.isna().sum()"
   ]
  },
  {
   "cell_type": "code",
   "execution_count": 8,
   "id": "6777a0ea",
   "metadata": {},
   "outputs": [
    {
     "name": "stdout",
     "output_type": "stream",
     "text": [
      "Columns in the dataset:\n",
      "Index(['row_n', 'id', 'name', 'gender', 'species', 'birthday', 'personality',\n",
      "       'song', 'phrase', 'full_id', 'url'],\n",
      "      dtype='object')\n",
      "The dataset has 391 rows and 11 columns.\n"
     ]
    }
   ],
   "source": [
    "import pandas as pd\n",
    "url = \"https://raw.githubusercontent.com/rfordatascience/tidytuesday/master/data/2020/2020-05-05/villagers.csv\"\n",
    "df = pd.read_csv(url)\n",
    "df.isna().sum()\n",
    "# List all columns in the dataset\n",
    "columns = df.columns\n",
    "print(\"Columns in the dataset:\")\n",
    "print(columns)\n",
    "# Get the shape of the dataframe (rows, columns)\n",
    "shape = df.shape\n",
    "print(f\"The dataset has {shape[0]} rows and {shape[1]} columns.\")"
   ]
  },
  {
   "cell_type": "code",
   "execution_count": 6,
   "id": "27c30136",
   "metadata": {},
   "outputs": [
    {
     "name": "stdout",
     "output_type": "stream",
     "text": [
      "Columns in the dataset:\n",
      "Index(['row_n', 'id', 'name', 'gender', 'species', 'birthday', 'personality',\n",
      "       'song', 'phrase', 'full_id', 'url'],\n",
      "      dtype='object')\n"
     ]
    }
   ],
   "source": []
  },
  {
   "cell_type": "code",
   "execution_count": 9,
   "id": "1b979126",
   "metadata": {},
   "outputs": [
    {
     "name": "stdout",
     "output_type": "stream",
     "text": [
      "First few rows of the dataset:\n",
      "   row_n       id     name  gender    species birthday personality  \\\n",
      "0      2  admiral  Admiral    male       bird     1-27      cranky   \n",
      "1      3  agent-s  Agent S  female   squirrel      7-2       peppy   \n",
      "2      4    agnes    Agnes  female        pig     4-21        uchi   \n",
      "3      6       al       Al    male    gorilla    10-18        lazy   \n",
      "4      7  alfonso  Alfonso    male  alligator      6-9        lazy   \n",
      "\n",
      "          song    phrase           full_id  \\\n",
      "0   Steep Hill   aye aye  villager-admiral   \n",
      "1      DJ K.K.  sidekick  villager-agent-s   \n",
      "2   K.K. House   snuffle    villager-agnes   \n",
      "3   Steep Hill   Ayyeeee       villager-al   \n",
      "4  Forest Life  it'sa me  villager-alfonso   \n",
      "\n",
      "                                                 url  \n",
      "0  https://villagerdb.com/images/villagers/thumb/...  \n",
      "1  https://villagerdb.com/images/villagers/thumb/...  \n",
      "2  https://villagerdb.com/images/villagers/thumb/...  \n",
      "3  https://villagerdb.com/images/villagers/thumb/...  \n",
      "4  https://villagerdb.com/images/villagers/thumb/...  \n",
      "\n",
      "Column names in the dataset:\n",
      "Index(['row_n', 'id', 'name', 'gender', 'species', 'birthday', 'personality',\n",
      "       'song', 'phrase', 'full_id', 'url'],\n",
      "      dtype='object')\n",
      "\n",
      "Summary statistics for numeric columns:\n",
      "            row_n\n",
      "count  391.000000\n",
      "mean   239.902813\n",
      "std    140.702672\n",
      "min      2.000000\n",
      "25%    117.500000\n",
      "50%    240.000000\n",
      "75%    363.500000\n",
      "max    483.000000\n",
      "\n",
      "Summary statistics for categorical columns:\n",
      "             id     name gender species birthday personality          song  \\\n",
      "count       390      391    391     391      391         391           380   \n",
      "unique      390      391      2      35      361           8            92   \n",
      "top     admiral  Admiral   male     cat     1-27        lazy  K.K. Country   \n",
      "freq          1        1    204      23        2          60            10   \n",
      "\n",
      "         phrase           full_id  \\\n",
      "count       391               391   \n",
      "unique      388               391   \n",
      "top     wee one  villager-admiral   \n",
      "freq          2                 1   \n",
      "\n",
      "                                                      url  \n",
      "count                                                 391  \n",
      "unique                                                391  \n",
      "top     https://villagerdb.com/images/villagers/thumb/...  \n",
      "freq                                                    1  \n",
      "\n",
      "Missing values in each column:\n",
      "row_n           0\n",
      "id              1\n",
      "name            0\n",
      "gender          0\n",
      "species         0\n",
      "birthday        0\n",
      "personality     0\n",
      "song           11\n",
      "phrase          0\n",
      "full_id         0\n",
      "url             0\n",
      "dtype: int64\n",
      "\n",
      "Value counts for 'species':\n",
      "species\n",
      "cat          23\n",
      "rabbit       20\n",
      "frog         18\n",
      "squirrel     18\n",
      "duck         17\n",
      "dog          16\n",
      "cub          16\n",
      "pig          15\n",
      "bear         15\n",
      "mouse        15\n",
      "horse        15\n",
      "bird         13\n",
      "penguin      13\n",
      "sheep        13\n",
      "elephant     11\n",
      "wolf         11\n",
      "ostrich      10\n",
      "deer         10\n",
      "eagle         9\n",
      "gorilla       9\n",
      "chicken       9\n",
      "koala         9\n",
      "goat          8\n",
      "hamster       8\n",
      "kangaroo      8\n",
      "monkey        8\n",
      "anteater      7\n",
      "hippo         7\n",
      "tiger         7\n",
      "alligator     7\n",
      "lion          7\n",
      "bull          6\n",
      "rhino         6\n",
      "cow           4\n",
      "octopus       3\n",
      "Name: count, dtype: int64\n",
      "\n",
      "Value counts for 'gender':\n",
      "gender\n",
      "male      204\n",
      "female    187\n",
      "Name: count, dtype: int64\n"
     ]
    }
   ],
   "source": [
    "import pandas as pd\n",
    "\n",
    "# Load the dataset\n",
    "url = 'https://raw.githubusercontent.com/rfordatascience/tidytuesday/master/data/2020/2020-05-05/villagers.csv'\n",
    "df = pd.read_csv(url)\n",
    "\n",
    "# View the first few rows of the dataset\n",
    "print(\"First few rows of the dataset:\")\n",
    "print(df.head())\n",
    "\n",
    "# Print column names\n",
    "print(\"\\nColumn names in the dataset:\")\n",
    "print(df.columns)\n",
    "\n",
    "# Summary statistics for numeric columns (if any)\n",
    "print(\"\\nSummary statistics for numeric columns:\")\n",
    "print(df.describe())\n",
    "\n",
    "# Summary statistics for categorical columns\n",
    "print(\"\\nSummary statistics for categorical columns:\")\n",
    "print(df.describe(include=['object']))\n",
    "\n",
    "# Check for missing values\n",
    "print(\"\\nMissing values in each column:\")\n",
    "print(df.isnull().sum())\n",
    "\n",
    "# Value counts for specific categorical columns\n",
    "print(\"\\nValue counts for 'species':\")\n",
    "print(df['species'].value_counts())\n",
    "\n",
    "print(\"\\nValue counts for 'gender':\")\n",
    "print(df['gender'].value_counts())\n"
   ]
  },
  {
   "cell_type": "code",
   "execution_count": 10,
   "id": "9945e467",
   "metadata": {},
   "outputs": [
    {
     "name": "stdout",
     "output_type": "stream",
     "text": [
      "The dataset has 391 rows and 11 columns.\n",
      "\n",
      "Summary statistics for numeric columns:\n",
      "            row_n\n",
      "count  391.000000\n",
      "mean   239.902813\n",
      "std    140.702672\n",
      "min      2.000000\n",
      "25%    117.500000\n",
      "50%    240.000000\n",
      "75%    363.500000\n",
      "max    483.000000\n",
      "\n",
      "Summary statistics for all columns:\n",
      "             row_n       id     name gender species birthday personality  \\\n",
      "count   391.000000      390      391    391     391      391         391   \n",
      "unique         NaN      390      391      2      35      361           8   \n",
      "top            NaN  admiral  Admiral   male     cat     1-27        lazy   \n",
      "freq           NaN        1        1    204      23        2          60   \n",
      "mean    239.902813      NaN      NaN    NaN     NaN      NaN         NaN   \n",
      "std     140.702672      NaN      NaN    NaN     NaN      NaN         NaN   \n",
      "min       2.000000      NaN      NaN    NaN     NaN      NaN         NaN   \n",
      "25%     117.500000      NaN      NaN    NaN     NaN      NaN         NaN   \n",
      "50%     240.000000      NaN      NaN    NaN     NaN      NaN         NaN   \n",
      "75%     363.500000      NaN      NaN    NaN     NaN      NaN         NaN   \n",
      "max     483.000000      NaN      NaN    NaN     NaN      NaN         NaN   \n",
      "\n",
      "                song   phrase           full_id  \\\n",
      "count            380      391               391   \n",
      "unique            92      388               391   \n",
      "top     K.K. Country  wee one  villager-admiral   \n",
      "freq              10        2                 1   \n",
      "mean             NaN      NaN               NaN   \n",
      "std              NaN      NaN               NaN   \n",
      "min              NaN      NaN               NaN   \n",
      "25%              NaN      NaN               NaN   \n",
      "50%              NaN      NaN               NaN   \n",
      "75%              NaN      NaN               NaN   \n",
      "max              NaN      NaN               NaN   \n",
      "\n",
      "                                                      url  \n",
      "count                                                 391  \n",
      "unique                                                391  \n",
      "top     https://villagerdb.com/images/villagers/thumb/...  \n",
      "freq                                                    1  \n",
      "mean                                                  NaN  \n",
      "std                                                   NaN  \n",
      "min                                                   NaN  \n",
      "25%                                                   NaN  \n",
      "50%                                                   NaN  \n",
      "75%                                                   NaN  \n",
      "max                                                   NaN  \n"
     ]
    }
   ],
   "source": [
    "import pandas as pd\n",
    "\n",
    "# Load the dataset\n",
    "url = 'https://raw.githubusercontent.com/rfordatascience/tidytuesday/master/data/2020/2020-05-05/villagers.csv'\n",
    "df = pd.read_csv(url)\n",
    "\n",
    "# Shape of the dataset\n",
    "shape = df.shape\n",
    "print(f\"The dataset has {shape[0]} rows and {shape[1]} columns.\")\n",
    "\n",
    "# Summary statistics for numeric columns\n",
    "numeric_summary = df.describe()\n",
    "print(\"\\nSummary statistics for numeric columns:\")\n",
    "print(numeric_summary)\n",
    "\n",
    "# Summary statistics for all columns including non-numeric\n",
    "all_summary = df.describe(include='all')\n",
    "print(\"\\nSummary statistics for all columns:\")\n",
    "print(all_summary)"
   ]
  },
  {
   "cell_type": "code",
   "execution_count": 11,
   "id": "136c8d8b",
   "metadata": {
    "collapsed": true
   },
   "outputs": [
    {
     "ename": "SyntaxError",
     "evalue": "unterminated string literal (detected at line 1) (2312496777.py, line 1)",
     "output_type": "error",
     "traceback": [
      "\u001b[0;36m  Cell \u001b[0;32mIn[11], line 1\u001b[0;36m\u001b[0m\n\u001b[0;31m    The difference between 'an attribute' and 'a method' is that the attribute behave as the characteristics of the object, and it just store values, so it doesn't have to use '()'. The method need to execute the computation or something, so it need the '()' to call them.\u001b[0m\n\u001b[0m                                                                                                                                                                                                                                                                 ^\u001b[0m\n\u001b[0;31mSyntaxError\u001b[0m\u001b[0;31m:\u001b[0m unterminated string literal (detected at line 1)\n"
     ]
    }
   ],
   "source": [
    "5\n",
    "The difference between 'an attribute' and 'a method' is that the attribute behave as the characteristics of \n",
    "the object, and it just store values, so it doesn't have to use '()'. The method need to execute the computation\n",
    "or something, so it need the '()' to call them."
   ]
  },
  {
   "cell_type": "code",
   "execution_count": 12,
   "id": "5a9335a3",
   "metadata": {},
   "outputs": [
    {
     "ename": "SyntaxError",
     "evalue": "unterminated string literal (detected at line 4) (2860720432.py, line 4)",
     "output_type": "error",
     "traceback": [
      "\u001b[0;36m  Cell \u001b[0;32mIn[12], line 4\u001b[0;36m\u001b[0m\n\u001b[0;31m    Definition: The average value of the column. It's calculated by summing all the values and then dividing by the count of non-null values.\u001b[0m\n\u001b[0m                                                   ^\u001b[0m\n\u001b[0;31mSyntaxError\u001b[0m\u001b[0;31m:\u001b[0m unterminated string literal (detected at line 4)\n"
     ]
    }
   ],
   "source": [
    "6\n",
    "1. Count:\n",
    "Definition: The number of non-null entries in the column. It gives you the total number of values available for that column.\n",
    "2. Mean:\n",
    "Definition: The average value of the column. It's calculated by summing all the values and then dividing by the count of non-null values.\n",
    "3. Standard Deviation (std):\n",
    "Definition: A measure of the amount of variation or dispersion of the values in the column.\n",
    "It indicates how much the values deviate from the mean on average.\n",
    "4. Minimum (min):\n",
    "Definition: The smallest value in the column.\n",
    "5. 25th Percentile (25%):\n",
    "Definition: The value below which 25% of the data falls. It's also known as the first quartile (Q1).\n",
    "6. 50th Percentile (50% or Median):\n",
    "Definition: The middle value of the data when sorted in ascending order. Half of the values are below this number, and half are above it. It's also known as the median.\n",
    "7. 75th Percentile (75%):\n",
    "Definition: The value below which 75% of the data falls. It's also known as the third quartile (Q3).\n",
    "8. Maximum (max):\n",
    "Definition: The largest value in the column."
   ]
  },
  {
   "cell_type": "code",
   "execution_count": 13,
   "id": "b31b31ff",
   "metadata": {},
   "outputs": [
    {
     "ename": "SyntaxError",
     "evalue": "invalid character '’' (U+2019) (2947807194.py, line 7)",
     "output_type": "error",
     "traceback": [
      "\u001b[0;36m  Cell \u001b[0;32mIn[13], line 7\u001b[0;36m\u001b[0m\n\u001b[0;31m    Reasoning: del df['col'] is preferred when you need to remove an entire column, especially if it’s not relevant to your analysis. This simplifies the dataset and reduces the number of columns you need to work with.\u001b[0m\n\u001b[0m                                                                                                    ^\u001b[0m\n\u001b[0;31mSyntaxError\u001b[0m\u001b[0;31m:\u001b[0m invalid character '’' (U+2019)\n"
     ]
    }
   ],
   "source": [
    "7\n",
    "1. Scenario: You have a dataset with several columns, and you want to remove all rows where any column has missing data.\n",
    "Example: Suppose you are analyzing survey data where respondents have answered various questions, but some responses are missing. You might want to remove all rows with missing responses to ensure that your analysis is based on complete data.\n",
    "Reasoning: df.dropna() is useful when you want to remove incomplete rows from your dataset. This ensures that all remaining rows have complete information across all columns, which is critical for analyses where missing data could skew results or lead to incomplete conclusions.\n",
    "2. Scenario: You have a dataset where one specific column is irrelevant to your analysis, and you want to remove that column completely.\n",
    "Example: Suppose you have a dataset of customer purchases with several columns, but the \"Customer ID\" column is not needed for your analysis. Removing it will simplify the dataset.\n",
    "Reasoning: del df['col'] is preferred when you need to remove an entire column, especially if it’s not relevant to your analysis. This simplifies the dataset and reduces the number of columns you need to work with.\n",
    "3. Applying del df['col'] before df.dropna() could be important to avoid removing rows based on columns that are not needed for your analysis. Removing unnecessary columns first can simplify the dataset and ensure that dropna() only considers relevant columns."
   ]
  },
  {
   "cell_type": "code",
   "execution_count": 14,
   "id": "7c82816f",
   "metadata": {},
   "outputs": [
    {
     "ename": "SyntaxError",
     "evalue": "invalid decimal literal (2905639097.py, line 1)",
     "output_type": "error",
     "traceback": [
      "\u001b[0;36m  Cell \u001b[0;32mIn[14], line 1\u001b[0;36m\u001b[0m\n\u001b[0;31m    9.no\u001b[0m\n\u001b[0m     ^\u001b[0m\n\u001b[0;31mSyntaxError\u001b[0m\u001b[0;31m:\u001b[0m invalid decimal literal\n"
     ]
    }
   ],
   "source": [
    "9.no"
   ]
  },
  {
   "cell_type": "code",
   "execution_count": null,
   "id": "1031bb97",
   "metadata": {},
   "outputs": [],
   "source": [
    "https://chatgpt.com/share/951a822b-bd82-4eec-a274-88682230cb59"
   ]
  }
 ],
 "metadata": {
  "kernelspec": {
   "display_name": "Python 3 (ipykernel)",
   "language": "python",
   "name": "python3"
  },
  "language_info": {
   "codemirror_mode": {
    "name": "ipython",
    "version": 3
   },
   "file_extension": ".py",
   "mimetype": "text/x-python",
   "name": "python",
   "nbconvert_exporter": "python",
   "pygments_lexer": "ipython3",
   "version": "3.11.6"
  }
 },
 "nbformat": 4,
 "nbformat_minor": 5
}
